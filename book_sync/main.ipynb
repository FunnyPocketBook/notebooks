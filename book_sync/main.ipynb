{
 "cells": [
  {
   "cell_type": "code",
   "execution_count": 7,
   "metadata": {},
   "outputs": [],
   "source": [
    "audiobook = {\n",
    "    \"total_time\": 25383.568005,\n",
    "    \"content_start\": 11.563,\n",
    "    \"content_end\": 25345.675,\n",
    "    \"current_time\": 688.886,\n",
    "    \"current_chapter\": 2,\n",
    "    \"chapter_start\": 576.365,\n",
    "    \"chapter_end\": 1109.053,\n",
    "}\n",
    "\n",
    "ebook = {\n",
    "    \n",
    "}"
   ]
  },
  {
   "cell_type": "code",
   "execution_count": 5,
   "metadata": {},
   "outputs": [
    {
     "data": {
      "text/plain": [
       "112.52099999999996"
      ]
     },
     "execution_count": 5,
     "metadata": {},
     "output_type": "execute_result"
    }
   ],
   "source": [
    "688.886-576.365"
   ]
  },
  {
   "cell_type": "code",
   "execution_count": 8,
   "metadata": {},
   "outputs": [
    {
     "data": {
      "text/plain": [
       "(0.02673561244222809, 0.21123246628420378)"
      ]
     },
     "execution_count": 8,
     "metadata": {},
     "output_type": "execute_result"
    }
   ],
   "source": [
    "def get_audio_percentage(a):\n",
    "    content_time = a[\"content_end\"] - a[\"content_start\"]\n",
    "    current_percentage = (a[\"current_time\"] - a[\"content_start\"]) / content_time\n",
    "    chapter_percentage = (a[\"current_time\"] - a[\"chapter_start\"]) / (a[\"chapter_end\"] - a[\"chapter_start\"])\n",
    "    return current_percentage, chapter_percentage\n",
    "\n",
    "get_audio_percentage(audiobook)"
   ]
  }
 ],
 "metadata": {
  "kernelspec": {
   "display_name": ".venv",
   "language": "python",
   "name": "python3"
  },
  "language_info": {
   "codemirror_mode": {
    "name": "ipython",
    "version": 3
   },
   "file_extension": ".py",
   "mimetype": "text/x-python",
   "name": "python",
   "nbconvert_exporter": "python",
   "pygments_lexer": "ipython3",
   "version": "3.12.2"
  }
 },
 "nbformat": 4,
 "nbformat_minor": 2
}
