{
 "cells": [
  {
   "cell_type": "code",
   "execution_count": 21,
   "metadata": {},
   "outputs": [],
   "source": [
    "import numpy as np\n",
    "import open3d as o3d\n",
    "from scipy.spatial import cKDTree\n",
    "\n",
    "def compute_metrics(gt_points, gen_points):\n",
    "    \"\"\"\n",
    "    Computes various metrics to evaluate the accuracy of a generated point cloud against the ground truth.\n",
    "    Handles cases where the point counts differ.\n",
    "    \n",
    "    Args:\n",
    "        gt_points (numpy.ndarray): Ground truth points, shape (N1, 3).\n",
    "        gen_points (numpy.ndarray): Generated points, shape (N2, 3).\n",
    "        \n",
    "    Returns:\n",
    "        dict: A dictionary containing the computed metrics.\n",
    "    \"\"\"\n",
    "    # Compute pairwise distances using k-D tree for efficiency\n",
    "    gt_kdtree = cKDTree(gt_points)\n",
    "    gen_kdtree = cKDTree(gen_points)\n",
    "\n",
    "\n",
    "    gt_set = set(map(tuple, gt_points))\n",
    "    gen_set = set(map(tuple, gen_points))\n",
    "    \n",
    "    # For Chamfer Distance and Hausdorff Distance\n",
    "    gen_to_gt_distances, _ = gen_kdtree.query(gt_points, k=1)\n",
    "    gt_to_gen_distances, _ = gt_kdtree.query(gen_points, k=1)\n",
    "    \n",
    "    \n",
    "    # Metrics\n",
    "    # Chamfer Distance (First Term)\n",
    "    chamfer_distance = np.mean(gen_to_gt_distances ** 2) + np.mean(gt_to_gen_distances ** 2)\n",
    "    \n",
    "    # Hausdorff Distance\n",
    "    hausdorff_distance = max(np.max(gen_to_gt_distances), np.max(gt_to_gen_distances))\n",
    "    \n",
    "    # MSE and RMSE\n",
    "    mse = np.mean(gen_to_gt_distances ** 2)  # Only for nearest points\n",
    "    rmse = np.sqrt(mse)\n",
    "    \n",
    "    # MAE\n",
    "    mae = np.mean(gen_to_gt_distances)  # Absolute distance\n",
    "    \n",
    "    # Signal-to-Noise Ratio (SNR)\n",
    "    signal_power = np.sum(np.linalg.norm(gt_points, axis=1) ** 2)\n",
    "    noise_power = np.sum(gen_to_gt_distances ** 2)\n",
    "    snr = 10 * np.log10(signal_power / noise_power) if noise_power > 0 else float('inf')\n",
    "\n",
    "    # Exact matches\n",
    "    exact_matches = gt_set & gen_set\n",
    "    matched_count = len(exact_matches)\n",
    "    \n",
    "    # Missing and extra points\n",
    "    missing_count = len(gt_set - gen_set)\n",
    "    extra_count = len(gen_set - gt_set)\n",
    "    \n",
    "    # Completeness: Fraction of GT points matched\n",
    "    completeness = matched_count / len(gt_set) if len(gt_set) > 0 else 1.0\n",
    "    \n",
    "    # Accuracy: Fraction of Gen points that match GT\n",
    "    accuracy = matched_count / len(gen_set) if len(gen_set) > 0 else 1.0\n",
    "    \n",
    "        \n",
    "    return {\n",
    "        \"MSE\": mse,\n",
    "        \"RMSE\": rmse,\n",
    "        \"MAE\": mae,\n",
    "        \"Chamfer Distance\": chamfer_distance,\n",
    "        \"Hausdorff Distance\": hausdorff_distance,\n",
    "        \"SNR\": snr,\n",
    "        \"Exact Matches\": matched_count,\n",
    "        \"Missing Points\": missing_count,\n",
    "        \"Extra Points\": extra_count,\n",
    "        \"Completeness\": completeness,\n",
    "        \"Accuracy\": accuracy,\n",
    "        \"Chamfer Distance\": chamfer_distance\n",
    "    }\n",
    "\n",
    "\n",
    "def ply_metrics(gt_ply_path, gen_ply_path):\n",
    "    \"\"\"\n",
    "    Computes metrics for a pair of point clouds given their file paths.\n",
    "    \n",
    "    Args:\n",
    "        gt_ply_path (str): Path to the ground truth point cloud.\n",
    "        gen_ply_path (str): Path to the generated point cloud.\n",
    "        \n",
    "    Returns:\n",
    "        dict: A dictionary containing the computed metrics.\n",
    "    \"\"\"\n",
    "    # Load point clouds\n",
    "    gt_pcd = o3d.io.read_point_cloud(gt_ply_path)\n",
    "    gen_pcd = o3d.io.read_point_cloud(gen_ply_path)\n",
    "    \n",
    "    # Convert to numpy arrays\n",
    "    gt_points = np.asarray(gt_pcd.points)\n",
    "    gen_points = np.asarray(gen_pcd.points)\n",
    "    \n",
    "    metrics = compute_metrics(gt_points, gen_points)\n",
    "    for metric, value in metrics.items():\n",
    "        print(f\"{metric}: {value}\")\n",
    "    return metrics"
   ]
  },
  {
   "cell_type": "code",
   "execution_count": 27,
   "metadata": {},
   "outputs": [
    {
     "name": "stdout",
     "output_type": "stream",
     "text": [
      "MSE: 1.2573330356184421e-05\n",
      "RMSE: 0.003545889219389746\n",
      "MAE: 0.00021460280284468124\n",
      "Chamfer Distance: 0.004557185225284462\n",
      "Hausdorff Distance: 0.4778152120945047\n",
      "SNR: 50.70297969988866\n",
      "Exact Matches: 6308\n",
      "Missing Points: 26\n",
      "Extra Points: 689\n",
      "Completeness: 0.9958951689295864\n",
      "Accuracy: 0.9015292268114906\n"
     ]
    }
   ],
   "source": [
    "bicycle_metrics = ply_metrics(\"data/points_bicycle_gt.ply\", \"output/bicycle/cluster/bicycle.ply\")"
   ]
  },
  {
   "cell_type": "code",
   "execution_count": 23,
   "metadata": {},
   "outputs": [
    {
     "name": "stdout",
     "output_type": "stream",
     "text": [
      "MSE: 0.0001709805336266227\n",
      "RMSE: 0.013075952494048864\n",
      "MAE: 0.001834674022331613\n",
      "Chamfer Distance: 0.00023835957867605645\n",
      "Hausdorff Distance: 0.2453098323343594\n",
      "SNR: 43.172962135626975\n",
      "Exact Matches: 24531\n",
      "Missing Points: 689\n",
      "Extra Points: 135\n",
      "Completeness: 0.972680412371134\n",
      "Accuracy: 0.9945268791048407\n"
     ]
    }
   ],
   "source": [
    "bonsai_metrics = ply_metrics(\"data/points_bonsai_gt.ply\", \"output/bonsai/cluster/bonsai.ply\")\n"
   ]
  },
  {
   "cell_type": "code",
   "execution_count": 28,
   "metadata": {},
   "outputs": [
    {
     "name": "stdout",
     "output_type": "stream",
     "text": [
      "MSE: 0.0010305423646034932\n",
      "RMSE: 0.03210206168774045\n",
      "MAE: 0.01045092367960673\n",
      "Chamfer Distance: 0.0012296781090043564\n",
      "Hausdorff Distance: 0.4269672716415563\n",
      "SNR: 36.37818919929256\n",
      "Exact Matches: 32827\n",
      "Missing Points: 4811\n",
      "Extra Points: 767\n",
      "Completeness: 0.8721770551038843\n",
      "Accuracy: 0.9771685420015479\n"
     ]
    }
   ],
   "source": [
    "kitchen_metrics = ply_metrics(\"data/points_kitchen_gt.ply\", \"output/kitchen/cluster/kitchen.ply\")\n"
   ]
  },
  {
   "cell_type": "code",
   "execution_count": 25,
   "metadata": {},
   "outputs": [
    {
     "name": "stdout",
     "output_type": "stream",
     "text": [
      "MSE: 0.0011595296083539836\n",
      "RMSE: 0.034051866444498806\n",
      "MAE: 0.009683864530969196\n",
      "Chamfer Distance: 0.0012840190732325805\n",
      "Hausdorff Distance: 0.5481564818660584\n",
      "SNR: 36.45773451258344\n",
      "Exact Matches: 12733\n",
      "Missing Points: 1322\n",
      "Extra Points: 38\n",
      "Completeness: 0.9059409462824618\n",
      "Accuracy: 0.9970245086524157\n"
     ]
    }
   ],
   "source": [
    "garden_metrics = ply_metrics(\"data/points_garden_gt.ply\", \"output/garden/cluster/garden.ply\")\n"
   ]
  }
 ],
 "metadata": {
  "kernelspec": {
   "display_name": ".venv",
   "language": "python",
   "name": "python3"
  },
  "language_info": {
   "codemirror_mode": {
    "name": "ipython",
    "version": 3
   },
   "file_extension": ".py",
   "mimetype": "text/x-python",
   "name": "python",
   "nbconvert_exporter": "python",
   "pygments_lexer": "ipython3",
   "version": "3.12.8"
  }
 },
 "nbformat": 4,
 "nbformat_minor": 2
}
